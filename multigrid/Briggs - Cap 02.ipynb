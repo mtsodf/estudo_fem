{
 "cells": [
  {
   "cell_type": "markdown",
   "metadata": {},
   "source": [
    "# Exercícios - Cap 02"
   ]
  },
  {
   "cell_type": "code",
   "execution_count": 1,
   "metadata": {
    "collapsed": true
   },
   "outputs": [],
   "source": [
    "%matplotlib inline\n",
    "\n",
    "import matplotlib.pyplot as plt\n",
    "import numpy as np\n",
    "from numpy import linalg as LA\n",
    "from math import *\n",
    "from IPython.display import Image\n",
    "from IPython.core.display import HTML \n",
    "plt.style.use('ggplot')\n",
    "\n",
    "np.random.seed(1)"
   ]
  },
  {
   "cell_type": "markdown",
   "metadata": {},
   "source": [
    "## Exercício 01"
   ]
  },
  {
   "cell_type": "code",
   "execution_count": 6,
   "metadata": {
    "collapsed": false
   },
   "outputs": [
    {
     "data": {
      "text/html": [
       "<img src=\"ex01.png\"/>"
      ],
      "text/plain": [
       "<IPython.core.display.Image object>"
      ]
     },
     "execution_count": 6,
     "metadata": {},
     "output_type": "execute_result"
    }
   ],
   "source": [
    "Image(url= \"ex01.png\")"
   ]
  },
  {
   "cell_type": "code",
   "execution_count": 5,
   "metadata": {
    "collapsed": false
   },
   "outputs": [
    {
     "data": {
      "text/html": [
       "<img src=\"ex01-b.png\"/>"
      ],
      "text/plain": [
       "<IPython.core.display.Image object>"
      ]
     },
     "execution_count": 5,
     "metadata": {},
     "output_type": "execute_result"
    }
   ],
   "source": [
    "Image(url= \"ex01-b.png\")"
   ]
  },
  {
   "cell_type": "markdown",
   "metadata": {},
   "source": [
    "O que acontece é que as retas do primeiro sistema são mais próximas de serem coincidentes do que do segundo sistema como os coeficientes angulares.\n",
    "\n",
    "Sistema 1:\n",
    "\n",
    "$u_1 -  u_2 = -1 \\rightarrow u_2 = u_1 + 1$\n",
    "\n",
    "$21u_1 - 20 u_2 = -19 \\rightarrow u_2 = \\frac{21}{20}u_1 + \\frac{19}{20}$\n",
    "    \n",
    "Sistema 2:\n",
    "\n",
    "$u_1 - u_2 = -1 \\rightarrow u_2 = u_1 + 1$\n",
    "\n",
    "$3u_1 - u_2 = 1 \\rightarrow u_2 = 3u_1 - 1$\n",
    "\n",
    " \n",
    "Abaixo são apresentados os gráficos das retas."
   ]
  },
  {
   "cell_type": "code",
   "execution_count": 11,
   "metadata": {
    "collapsed": false
   },
   "outputs": [
    {
     "data": {
      "text/plain": [
       "[<matplotlib.lines.Line2D at 0x10d05b7d0>]"
      ]
     },
     "execution_count": 11,
     "metadata": {},
     "output_type": "execute_result"
    },
    {
     "data": {
      "image/png": "[encoded data removed]",
      "text/plain": [
       "<matplotlib.figure.Figure at 0x10d05b790>"
      ]
     },
     "metadata": {},
     "output_type": "display_data"
    }
   ],
   "source": [
    "x=np.linspace(0, 2, endpoint=True, num=50)\n",
    "y1 = 1 + x\n",
    "y2 = (1.0/20)*(21*x+19)\n",
    "\n",
    "plt.plot(x, y1)\n",
    "plt.plot(x,y2)"
   ]
  },
  {
   "cell_type": "code",
   "execution_count": 13,
   "metadata": {
    "collapsed": false
   },
   "outputs": [
    {
     "data": {
      "text/plain": [
       "[<matplotlib.lines.Line2D at 0x10d355810>]"
      ]
     },
     "execution_count": 13,
     "metadata": {},
     "output_type": "execute_result"
    },
    {
     "data": {
      "image/png": "[encoded data removed]",
      "text/plain": [
       "<matplotlib.figure.Figure at 0x10d355750>"
      ]
     },
     "metadata": {},
     "output_type": "display_data"
    }
   ],
   "source": [
    "x=np.linspace(0, 2, endpoint=True, num=50)\n",
    "y1 = 1.0 + x\n",
    "y2 = -1.0+3*x\n",
    "\n",
    "plt.plot(x, y1)\n",
    "plt.plot(x,y2)"
   ]
  },
  {
   "cell_type": "code",
   "execution_count": 17,
   "metadata": {
    "collapsed": false
   },
   "outputs": [
    {
     "data": {
      "text/html": [
       "<img src=\"ex02.png\"/>"
      ],
      "text/plain": [
       "<IPython.core.display.Image object>"
      ]
     },
     "execution_count": 17,
     "metadata": {},
     "output_type": "execute_result"
    }
   ],
   "source": [
    "Image(url= \"ex02.png\")"
   ]
  },
  {
   "cell_type": "markdown",
   "metadata": {},
   "source": [
    "$ r = b - Ax $\n",
    "\n",
    "$ e = x^* - x \\rightarrow x = x^* - e$\n",
    "\n",
    "Substituindo $x$ na primeira equação.\n",
    "\n",
    "$ r = b - A (x^* - e) $\n",
    "\n",
    "$ r = b - A x^* + Ae $\n",
    "\n",
    "Mas como $ Ax^* = b $\n",
    "\n",
    "$ r = b - b + Ae $\n",
    "\n",
    "$ Ae = r $"
   ]
  },
  {
   "cell_type": "code",
   "execution_count": 15,
   "metadata": {
    "collapsed": false
   },
   "outputs": [
    {
     "data": {
      "text/html": [
       "<img src=\"ex03.png\"/>"
      ],
      "text/plain": [
       "<IPython.core.display.Image object>"
      ]
     },
     "execution_count": 15,
     "metadata": {},
     "output_type": "execute_result"
    }
   ],
   "source": [
    "Image(url= \"ex03.png\")"
   ]
  },
  {
   "cell_type": "markdown",
   "metadata": {},
   "source": [
    "a)\n",
    "\n",
    "Component form Jacobi:\n",
    "\n",
    "$v_j^{i+1} = \\frac{1}{2} (v_{j-1}^{i} + v_{j+1}^{i} + h^2f) $\n",
    "\n",
    "Component form Weighted-Jacobi:\n",
    "\n",
    "$v_j^{i+1} = (1-w)v_j^i + \\frac{w}{2} (v_{j-1}^{i} + v_{j+1}^{i} + h^2f_j) $\n",
    "\n",
    "Passando para a forma matricial\n",
    "\n",
    "$v^{i+1} = I(1-w)v^i + \\frac{w}{2} \\begin{bmatrix}\n",
    "0 & 1 & 0  &...  & 0\\\\ \n",
    "1 & 0 & 1 & ... &  0\\\\ \n",
    "0 & 1 & 0 & \\\\ \n",
    " &  &\\ddots  &  &\\\\\n",
    " &  & & 0 & 1\\\\\n",
    "& & &1 & 0\n",
    "\\end{bmatrix} v^i + \\frac{w}{2}h^2f$\n",
    "\n",
    "\n",
    "Com as definições:\n",
    "\n",
    "$A = \\frac{1}{h^2}\\begin{bmatrix}\n",
    "2 & -1 & 0  & ...  & 0\\\\ \n",
    "-1 & 2 & -1 & ... &  0\\\\ \n",
    "0 & -1 & 2 & \\\\ \n",
    " &  &\\ddots  &  &\\\\\n",
    " &  & & 2 & -1\\\\\n",
    "& & &-1 & 2\n",
    "\\end{bmatrix}$ \n",
    "\n",
    "$L = \\frac{1}{h^2}\\begin{bmatrix}\n",
    "0 & 0 & 0  & ...  & 0\\\\ \n",
    "1 & 0 & 0 & ... &  0\\\\ \n",
    "0 & 1 & 0 & \\\\ \n",
    " &  &\\ddots  &  &\\\\\n",
    " &  & & 0 & 0\\\\\n",
    "& & &1 & 0\n",
    "\\end{bmatrix}   \n",
    "U = \\frac{1}{h^2}\\begin{bmatrix}\n",
    "0 & 1 & 0  & ...  & 0\\\\ \n",
    "0 & 0 & 1 & ... &  0\\\\ \n",
    "0 & 0 & 0 & \\\\ \n",
    " &  &\\ddots  &  &\\\\\n",
    " &  & & 0 & 1\\\\\n",
    "& & & 0& 0\n",
    "\\end{bmatrix}\n",
    "D = \\frac{1}{h^2}\\begin{bmatrix}\n",
    "2 & 0 & 0  & ...  & 0\\\\ \n",
    "0 & 2 & 0 & ... &  0\\\\ \n",
    "0 & 0 & 2 & \\\\ \n",
    " &  &\\ddots  &  &\\\\\n",
    " &  & & 2 & 0\\\\\n",
    "& & & 0& 2\n",
    "\\end{bmatrix}$\n",
    "\n",
    "$A = D - L - U$\n",
    "\n",
    "Dessa forma,\n",
    "\n",
    "$v^{i+1} = I(1-w)v^i + \\frac{w}{2} h^2 I (L+U) v^i + \\frac{w}{2}h^2f$\n",
    "\n",
    "\n",
    "Além disso, $D^{-1} = \\frac{h^2}{2}I$\n",
    "\n",
    "$v^{i+1} = I(1-w)v^i + w D^{-1} (L+U) v^i + w D^{-1} f$\n",
    "\n",
    "\n",
    "Com a definição, $R_j = D^{-1}(L+U)$\n",
    "\n",
    "$v^{i+1} = I(1-w)v^i + w R_j v^i + w D^{-1} f \\rightarrow v^{i+1} = ((1-w)I + w R_j )v^i + w D^{-1} f$"
   ]
  },
  {
   "cell_type": "markdown",
   "metadata": {},
   "source": [
    "b)\n",
    "\n",
    "Como $R_w = (1-w)I + w R_j $\n",
    "\n",
    "$v^{i+1} = ((1-w)I + w R_j )v^i + w D^{-1} f$\n",
    "\n",
    "$v^{i+1} = R_wv^i + w D^{-1} f$"
   ]
  },
  {
   "cell_type": "markdown",
   "metadata": {},
   "source": [
    "c)\n",
    "\n",
    "$r = f -  A v \\rightarrow r^i = f - (D-L-U)v^i$\n",
    "\n",
    "$f = r^i + (D-L-U)v^i $\n",
    "\n",
    "Substituindo na equacao $v^{i+1} = ((1-w)I + w R_j )v^i + w D^{-1} f$:\n",
    "\n",
    "$v^{i+1} = ((1-w)I + w R_j )v^i + w D^{-1}(r^i + (D-L-U)v^i) $\n",
    "\n",
    "$v^{i+1} = ((1-w)I + w R_j )v^i + w D^{-1}(D-L-U)v^i+ w D^{-1}r^i  $\n",
    "\n",
    "$v^{i+1} = ((1-w)I + w R_j )v^i + w D^{-1}Dv^i -  D^{-1}(L+U)v^i+ w D^{-1}r^i  $\n",
    "\n",
    "$v^{i+1} = (1-w)v^i + w R_j v^i + w v^i -  R_j v^i+ w D^{-1}r^i  $\n",
    "\n",
    "$v^{i+1} = v^i + w D^{-1}r^i  $"
   ]
  },
  {
   "cell_type": "markdown",
   "metadata": {},
   "source": [
    "d)\n",
    "\n",
    "$R_w = (1-w)I + w R_j $\n",
    "\n",
    "$ R_w = (1-w)I + w D^{-1}(L+U) $\n",
    "\n",
    "$ A = D - L - U \\rightarrow L+U= D-A$\n",
    "\n",
    "$ R_w = (1-w)I + w D^{-1}(D-A) $\n",
    "\n",
    "$ R_w = I - wI + w D^{-1}D - w D^{-1}A  $\n",
    "\n",
    "$ R_w = I - wI + w I + w D^{-1}A$\n",
    "\n",
    "$ R_w = I  - w D^{-1}A $\n",
    "\n",
    "$ R_w = I  - \\frac{wh^2}{2}A $"
   ]
  },
  {
   "cell_type": "code",
   "execution_count": 20,
   "metadata": {
    "collapsed": false
   },
   "outputs": [
    {
     "data": {
      "text/html": [
       "<img src=\"ex04.png\"/>"
      ],
      "text/plain": [
       "<IPython.core.display.Image object>"
      ]
     },
     "execution_count": 20,
     "metadata": {},
     "output_type": "execute_result"
    }
   ],
   "source": [
    "Image(url= \"ex04.png\")"
   ]
  },
  {
   "cell_type": "markdown",
   "metadata": {},
   "source": [
    "a)\n",
    "\n",
    "Pensando indutivamente...\n",
    "\n",
    "$ v^1 = R v^0 + Bf $\n",
    "\n",
    "$ v^2 = R v^1 + Bf = R(R v^0 + Bf) + Bf = R^2 v^0 + RBf + Bf$\n",
    "\n",
    "$ v^3 = R v^2 + Bf = R(R^2 v^0 + RBf + Bf) + Bf = R^3 v^0 + R^2Bf + RBf + Bf$\n",
    "\n",
    "Assim,\n",
    "\n",
    "$v^m = R^m v^0 + \\sum_{i=0}^{m-1}R^iBf$\n",
    "\n",
    "$ C(f) = \\sum_{i=0}^{m-1}R^iBf$"
   ]
  },
  {
   "cell_type": "markdown",
   "metadata": {},
   "source": [
    "b)\n",
    "\n",
    "$ r^0 = f-Av^0 \\rightarrow f = r^0 + Av^0$\n",
    "\n",
    "$ v^1 = (I-BA) v^0 + Bf \\rightarrow v^1 = (I-BA) v^0 + B(r^0 + Av^0)$\n",
    "\n",
    "$ v^1 = v^0 -B A v^0 + Br^0 + BAv^0 $\n",
    "\n",
    "$ v^1 = v^0 + Br^0$"
   ]
  },
  {
   "cell_type": "code",
   "execution_count": 21,
   "metadata": {
    "collapsed": false
   },
   "outputs": [
    {
     "data": {
      "text/html": [
       "<img src=\"ex05.png\"/>"
      ],
      "text/plain": [
       "<IPython.core.display.Image object>"
      ]
     },
     "execution_count": 21,
     "metadata": {},
     "output_type": "execute_result"
    }
   ],
   "source": [
    "Image(url= \"ex05.png\")"
   ]
  },
  {
   "cell_type": "markdown",
   "metadata": {},
   "source": [
    "## ????"
   ]
  },
  {
   "cell_type": "code",
   "execution_count": 22,
   "metadata": {
    "collapsed": false
   },
   "outputs": [
    {
     "data": {
      "text/html": [
       "<img src=\"ex06.png\"/>"
      ],
      "text/plain": [
       "<IPython.core.display.Image object>"
      ]
     },
     "execution_count": 22,
     "metadata": {},
     "output_type": "execute_result"
    }
   ],
   "source": [
    "Image(url= \"ex06.png\")"
   ]
  },
  {
   "cell_type": "markdown",
   "metadata": {},
   "source": [
    "Basta mostrar que dada uma condição inicial para Au=f, existe uma condição inicial que se comporta de mesma maneira em Au=0. Assim, dada a condição inicial $u^0$  resíduo inicial é:\n",
    "\n",
    "$ r^0 = f - Au^0 $\n",
    "\n",
    "E o erro:\n",
    "\n",
    "$ e^0 = u^* - u^0$\n",
    "\n",
    "Partindo da equação da questao 4. Podemos encontrar a relacão do erro em cada iteração com o erro anterior.\n",
    "\n",
    "$v^1 = v^0 + Br^0 \\rightarrow u^*-v^1 = u^*-v^0 + Br^0$\n",
    "\n",
    "$e^1 = e^0 + Br^0$\n",
    "\n",
    "Olhando agora para o problema $Au=0$. Para a condição inicial :\n",
    "\n",
    "$ u^\\prime = - u^* + u^0 $ o residuo é:\n",
    "\n",
    "$ r^0 = 0 - A(- u^* + u^0) = Au^*-Au^0  = f-Au^0$\n",
    "\n",
    "Que é igual ao resíduo anterior. Assim, pela equação $e^1 = e^0 + Br^0$ os erros das duas equações se comportarão da mesma maneira.\n",
    " \n"
   ]
  },
  {
   "cell_type": "code",
   "execution_count": 23,
   "metadata": {
    "collapsed": false
   },
   "outputs": [
    {
     "data": {
      "text/html": [
       "<img src=\"ex07.png\"/>"
      ],
      "text/plain": [
       "<IPython.core.display.Image object>"
      ]
     },
     "execution_count": 23,
     "metadata": {},
     "output_type": "execute_result"
    }
   ],
   "source": [
    "Image(url= \"ex07.png\")"
   ]
  },
  {
   "cell_type": "markdown",
   "metadata": {},
   "source": [
    "Dado que $\\rho(R)<1$ pois os métodos convergem. Então $ log_{10}\\rho(R) <0$.\n",
    "\n",
    "$\\rho(R)=0.1$ é melhor pois converge mais rapidamente para 0"
   ]
  },
  {
   "cell_type": "code",
   "execution_count": 27,
   "metadata": {
    "collapsed": false
   },
   "outputs": [
    {
     "data": {
      "text/plain": [
       "<matplotlib.legend.Legend at 0x10e30ccd0>"
      ]
     },
     "execution_count": 27,
     "metadata": {},
     "output_type": "execute_result"
    },
    {
     "data": {
      "image/png": "[encoded data removed]",
      "text/plain": [
       "<matplotlib.figure.Figure at 0x10e273d90>"
      ]
     },
     "metadata": {},
     "output_type": "display_data"
    }
   ],
   "source": [
    "x = np.linspace(0, 10, num=100)\n",
    "\n",
    "plt.plot(x, np.power(0.1,x), label=\"0.1\")\n",
    "plt.plot(x, np.power(0.9,x), label=\"0.9\")\n",
    "\n",
    "plt.legend(bbox_to_anchor=(1.05, 1), loc=2, borderaxespad=0.)"
   ]
  },
  {
   "cell_type": "code",
   "execution_count": null,
   "metadata": {
    "collapsed": true
   },
   "outputs": [],
   "source": []
  }
 ],
 "metadata": {
  "kernelspec": {
   "display_name": "Python 2",
   "language": "python",
   "name": "python2"
  },
  "language_info": {
   "codemirror_mode": {
    "name": "ipython",
    "version": 2
   },
   "file_extension": ".py",
   "mimetype": "text/x-python",
   "name": "python",
   "nbconvert_exporter": "python",
   "pygments_lexer": "ipython2",
   "version": "2.7.13"
  }
 },
 "nbformat": 4,
 "nbformat_minor": 2
}
