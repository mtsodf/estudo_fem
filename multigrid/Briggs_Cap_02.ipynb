{
 "cells": [
  {
   "cell_type": "markdown",
   "metadata": {},
   "source": [
    "# Exercícios - Cap 02"
   ]
  },
  {
   "cell_type": "code",
   "execution_count": 38,
   "metadata": {
    "collapsed": true
   },
   "outputs": [],
   "source": [
    "%matplotlib inline\n",
    "\n",
    "import matplotlib.pyplot as plt\n",
    "import numpy as np\n",
    "from numpy import linalg as LA\n",
    "from math import *\n",
    "from IPython.display import Image\n",
    "from IPython.core.display import HTML \n",
    "plt.style.use('ggplot')\n",
    "\n",
    "np.random.seed(1)"
   ]
  },
  {
   "cell_type": "markdown",
   "metadata": {},
   "source": [
    "## Exercício 01"
   ]
  },
  {
   "cell_type": "code",
   "execution_count": 39,
   "metadata": {},
   "outputs": [
    {
     "data": {
      "text/html": [
       "<img src=\"cap02/ex01.png\"/>"
      ],
      "text/plain": [
       "<IPython.core.display.Image object>"
      ]
     },
     "execution_count": 39,
     "metadata": {},
     "output_type": "execute_result"
    }
   ],
   "source": [
    "Image(url= \"cap02/ex01.png\")"
   ]
  },
  {
   "cell_type": "code",
   "execution_count": 40,
   "metadata": {},
   "outputs": [
    {
     "data": {
      "text/html": [
       "<img src=\"cap02/ex01-b.png\"/>"
      ],
      "text/plain": [
       "<IPython.core.display.Image object>"
      ]
     },
     "execution_count": 40,
     "metadata": {},
     "output_type": "execute_result"
    }
   ],
   "source": [
    "Image(url= \"cap02/ex01-b.png\")"
   ]
  },
  {
   "cell_type": "markdown",
   "metadata": {},
   "source": [
    "O que acontece é que as retas do primeiro sistema são mais próximas de serem coincidentes do que do segundo sistema como os coeficientes angulares.\n",
    "\n",
    "Sistema 1:\n",
    "\n",
    "$u_1 -  u_2 = -1 \\rightarrow u_2 = u_1 + 1$\n",
    "\n",
    "$21u_1 - 20 u_2 = -19 \\rightarrow u_2 = \\frac{21}{20}u_1 + \\frac{19}{20}$\n",
    "    \n",
    "Sistema 2:\n",
    "\n",
    "$u_1 - u_2 = -1 \\rightarrow u_2 = u_1 + 1$\n",
    "\n",
    "$3u_1 - u_2 = 1 \\rightarrow u_2 = 3u_1 - 1$\n",
    "\n",
    " \n",
    "Abaixo são apresentados os gráficos das retas."
   ]
  },
  {
   "cell_type": "code",
   "execution_count": 41,
   "metadata": {},
   "outputs": [
    {
     "data": {
      "text/plain": [
       "[<matplotlib.lines.Line2D at 0x7f0015751190>]"
      ]
     },
     "execution_count": 41,
     "metadata": {},
     "output_type": "execute_result"
    },
    {
     "data": {
      "image/png": "[encoded data removed]",
      "text/plain": [
       "<matplotlib.figure.Figure at 0x7f0015751150>"
      ]
     },
     "metadata": {},
     "output_type": "display_data"
    }
   ],
   "source": [
    "x=np.linspace(0, 2, endpoint=True, num=50)\n",
    "y1 = 1 + x\n",
    "y2 = (1.0/20)*(21*x+19)\n",
    "\n",
    "plt.plot(x, y1)\n",
    "plt.plot(x,y2)"
   ]
  },
  {
   "cell_type": "code",
   "execution_count": 42,
   "metadata": {},
   "outputs": [
    {
     "data": {
      "text/plain": [
       "[<matplotlib.lines.Line2D at 0x7f00156a51d0>]"
      ]
     },
     "execution_count": 42,
     "metadata": {},
     "output_type": "execute_result"
    },
    {
     "data": {
      "image/png": "[encoded data removed]",
      "text/plain": [
       "<matplotlib.figure.Figure at 0x7f00156a52d0>"
      ]
     },
     "metadata": {},
     "output_type": "display_data"
    }
   ],
   "source": [
    "x=np.linspace(0, 2, endpoint=True, num=50)\n",
    "y1 = 1.0 + x\n",
    "y2 = -1.0+3*x\n",
    "\n",
    "plt.plot(x, y1)\n",
    "plt.plot(x,y2)"
   ]
  },
  {
   "cell_type": "code",
   "execution_count": 43,
   "metadata": {},
   "outputs": [
    {
     "data": {
      "text/html": [
       "<img src=\"cap02/ex02.png\"/>"
      ],
      "text/plain": [
       "<IPython.core.display.Image object>"
      ]
     },
     "execution_count": 43,
     "metadata": {},
     "output_type": "execute_result"
    }
   ],
   "source": [
    "Image(url= \"cap02/ex02.png\")"
   ]
  },
  {
   "cell_type": "markdown",
   "metadata": {},
   "source": [
    "$ r = b - Ax $\n",
    "\n",
    "$ e = x^* - x \\rightarrow x = x^* - e$\n",
    "\n",
    "Substituindo $x$ na primeira equação.\n",
    "\n",
    "$ r = b - A (x^* - e) $\n",
    "\n",
    "$ r = b - A x^* + Ae $\n",
    "\n",
    "Mas como $ Ax^* = b $\n",
    "\n",
    "$ r = b - b + Ae $\n",
    "\n",
    "$ Ae = r $"
   ]
  },
  {
   "cell_type": "code",
   "execution_count": 44,
   "metadata": {},
   "outputs": [
    {
     "data": {
      "text/html": [
       "<img src=\"cap02/ex03.png\"/>"
      ],
      "text/plain": [
       "<IPython.core.display.Image object>"
      ]
     },
     "execution_count": 44,
     "metadata": {},
     "output_type": "execute_result"
    }
   ],
   "source": [
    "Image(url= \"cap02/ex03.png\")"
   ]
  },
  {
   "cell_type": "markdown",
   "metadata": {},
   "source": [
    "a)\n",
    "\n",
    "Component form Jacobi:\n",
    "\n",
    "$v_j^{i+1} = \\frac{1}{2} (v_{j-1}^{i} + v_{j+1}^{i} + h^2f) $\n",
    "\n",
    "Component form Weighted-Jacobi:\n",
    "\n",
    "$v_j^{i+1} = (1-w)v_j^i + \\frac{w}{2} (v_{j-1}^{i} + v_{j+1}^{i} + h^2f_j) $\n",
    "\n",
    "Passando para a forma matricial\n",
    "\n",
    "$v^{i+1} = I(1-w)v^i + \\frac{w}{2} \\begin{bmatrix}\n",
    "0 & 1 & 0  &...  & 0\\\\ \n",
    "1 & 0 & 1 & ... &  0\\\\ \n",
    "0 & 1 & 0 & \\\\ \n",
    " &  &\\ddots  &  &\\\\\n",
    " &  & & 0 & 1\\\\\n",
    "& & &1 & 0\n",
    "\\end{bmatrix} v^i + \\frac{w}{2}h^2f$\n",
    "\n",
    "\n",
    "Com as definições:\n",
    "\n",
    "$A = \\frac{1}{h^2}\\begin{bmatrix}\n",
    "2 & -1 & 0  & ...  & 0\\\\ \n",
    "-1 & 2 & -1 & ... &  0\\\\ \n",
    "0 & -1 & 2 & \\\\ \n",
    " &  &\\ddots  &  &\\\\\n",
    " &  & & 2 & -1\\\\\n",
    "& & &-1 & 2\n",
    "\\end{bmatrix}$ \n",
    "\n",
    "$L = \\frac{1}{h^2}\\begin{bmatrix}\n",
    "0 & 0 & 0  & ...  & 0\\\\ \n",
    "1 & 0 & 0 & ... &  0\\\\ \n",
    "0 & 1 & 0 & \\\\ \n",
    " &  &\\ddots  &  &\\\\\n",
    " &  & & 0 & 0\\\\\n",
    "& & &1 & 0\n",
    "\\end{bmatrix}   \n",
    "U = \\frac{1}{h^2}\\begin{bmatrix}\n",
    "0 & 1 & 0  & ...  & 0\\\\ \n",
    "0 & 0 & 1 & ... &  0\\\\ \n",
    "0 & 0 & 0 & \\\\ \n",
    " &  &\\ddots  &  &\\\\\n",
    " &  & & 0 & 1\\\\\n",
    "& & & 0& 0\n",
    "\\end{bmatrix}\n",
    "D = \\frac{1}{h^2}\\begin{bmatrix}\n",
    "2 & 0 & 0  & ...  & 0\\\\ \n",
    "0 & 2 & 0 & ... &  0\\\\ \n",
    "0 & 0 & 2 & \\\\ \n",
    " &  &\\ddots  &  &\\\\\n",
    " &  & & 2 & 0\\\\\n",
    "& & & 0& 2\n",
    "\\end{bmatrix}$\n",
    "\n",
    "$A = D - L - U$\n",
    "\n",
    "Dessa forma,\n",
    "\n",
    "$v^{i+1} = I(1-w)v^i + \\frac{w}{2} h^2 I (L+U) v^i + \\frac{w}{2}h^2f$\n",
    "\n",
    "\n",
    "Além disso, $D^{-1} = \\frac{h^2}{2}I$\n",
    "\n",
    "$v^{i+1} = I(1-w)v^i + w D^{-1} (L+U) v^i + w D^{-1} f$\n",
    "\n",
    "\n",
    "Com a definição, $R_j = D^{-1}(L+U)$\n",
    "\n",
    "$v^{i+1} = I(1-w)v^i + w R_j v^i + w D^{-1} f \\rightarrow v^{i+1} = ((1-w)I + w R_j )v^i + w D^{-1} f$"
   ]
  },
  {
   "cell_type": "markdown",
   "metadata": {},
   "source": [
    "b)\n",
    "\n",
    "Como $R_w = (1-w)I + w R_j $\n",
    "\n",
    "$v^{i+1} = ((1-w)I + w R_j )v^i + w D^{-1} f$\n",
    "\n",
    "$v^{i+1} = R_wv^i + w D^{-1} f$"
   ]
  },
  {
   "cell_type": "markdown",
   "metadata": {},
   "source": [
    "c)\n",
    "\n",
    "$r = f -  A v \\rightarrow r^i = f - (D-L-U)v^i$\n",
    "\n",
    "$f = r^i + (D-L-U)v^i $\n",
    "\n",
    "Substituindo na equacao $v^{i+1} = ((1-w)I + w R_j )v^i + w D^{-1} f$:\n",
    "\n",
    "$v^{i+1} = ((1-w)I + w R_j )v^i + w D^{-1}(r^i + (D-L-U)v^i) $\n",
    "\n",
    "$v^{i+1} = ((1-w)I + w R_j )v^i + w D^{-1}(D-L-U)v^i+ w D^{-1}r^i  $\n",
    "\n",
    "$v^{i+1} = ((1-w)I + w R_j )v^i + w D^{-1}Dv^i -  D^{-1}(L+U)v^i+ w D^{-1}r^i  $\n",
    "\n",
    "$v^{i+1} = (1-w)v^i + w R_j v^i + w v^i -  R_j v^i+ w D^{-1}r^i  $\n",
    "\n",
    "$v^{i+1} = v^i + w D^{-1}r^i  $"
   ]
  },
  {
   "cell_type": "markdown",
   "metadata": {},
   "source": [
    "d)\n",
    "\n",
    "$R_w = (1-w)I + w R_j $\n",
    "\n",
    "$ R_w = (1-w)I + w D^{-1}(L+U) $\n",
    "\n",
    "$ A = D - L - U \\rightarrow L+U= D-A$\n",
    "\n",
    "$ R_w = (1-w)I + w D^{-1}(D-A) $\n",
    "\n",
    "$ R_w = I - wI + w D^{-1}D - w D^{-1}A  $\n",
    "\n",
    "$ R_w = I - wI + w I + w D^{-1}A$\n",
    "\n",
    "$ R_w = I  - w D^{-1}A $\n",
    "\n",
    "$ R_w = I  - \\frac{wh^2}{2}A $\n",
    "\n",
    "Uma coisa importante, é que o livro mostra essa equação na página 17. Mas ele considera a matriz como\n",
    "sendo:\n",
    "\n",
    "$A =\\begin{bmatrix}\n",
    "2 & -1 & 0  & ...  & 0\\\\ \n",
    "-1 & 2 & -1 & ... &  0\\\\ \n",
    "0 & -1 & 2 & \\\\ \n",
    " &  &\\ddots  &  &\\\\\n",
    " &  & & 2 & -1\\\\\n",
    "& & &-1 & 2\n",
    "\\end{bmatrix}$ \n",
    "\n",
    "E por conta disso, o $h^2$ some da equação acima.\n",
    "\n"
   ]
  },
  {
   "cell_type": "code",
   "execution_count": 45,
   "metadata": {},
   "outputs": [
    {
     "data": {
      "text/html": [
       "<img src=\"cap02/ex04.png\"/>"
      ],
      "text/plain": [
       "<IPython.core.display.Image object>"
      ]
     },
     "execution_count": 45,
     "metadata": {},
     "output_type": "execute_result"
    }
   ],
   "source": [
    "Image(url= \"cap02/ex04.png\")"
   ]
  },
  {
   "cell_type": "markdown",
   "metadata": {},
   "source": [
    "a)\n",
    "\n",
    "Pensando indutivamente...\n",
    "\n",
    "$ v^1 = R v^0 + Bf $\n",
    "\n",
    "$ v^2 = R v^1 + Bf = R(R v^0 + Bf) + Bf = R^2 v^0 + RBf + Bf$\n",
    "\n",
    "$ v^3 = R v^2 + Bf = R(R^2 v^0 + RBf + Bf) + Bf = R^3 v^0 + R^2Bf + RBf + Bf$\n",
    "\n",
    "Assim,\n",
    "\n",
    "$v^m = R^m v^0 + \\sum_{i=0}^{m-1}R^iBf$\n",
    "\n",
    "$ C(f) = \\sum_{i=0}^{m-1}R^iBf$"
   ]
  },
  {
   "cell_type": "markdown",
   "metadata": {},
   "source": [
    "b)\n",
    "\n",
    "$ r^0 = f-Av^0 \\rightarrow f = r^0 + Av^0$\n",
    "\n",
    "$ v^1 = (I-BA) v^0 + Bf \\rightarrow v^1 = (I-BA) v^0 + B(r^0 + Av^0)$\n",
    "\n",
    "$ v^1 = v^0 -B A v^0 + Br^0 + BAv^0 $\n",
    "\n",
    "$ v^1 = v^0 + Br^0$"
   ]
  },
  {
   "cell_type": "code",
   "execution_count": 46,
   "metadata": {},
   "outputs": [
    {
     "data": {
      "text/html": [
       "<img src=\"cap02/ex05.png\"/>"
      ],
      "text/plain": [
       "<IPython.core.display.Image object>"
      ]
     },
     "execution_count": 46,
     "metadata": {},
     "output_type": "execute_result"
    }
   ],
   "source": [
    "Image(url= \"cap02/ex05.png\")"
   ]
  },
  {
   "cell_type": "markdown",
   "metadata": {},
   "source": [
    "Iteração j do Gauss Seidel\n",
    "\n",
    "$v^{i+1}_j = 0.5(h^2f_j + v^{i}_{j+1} +   v^{i+1}_{j-1})$\n",
    "\n",
    "Nesse momento o resíduo é:\n",
    "\n",
    "$r_j = f_j - (Av)_j = f_j - (2v^{i+1}_j - v^{i}_{j+1} - v^{i+1}_{j-1})h^{-2}$\n",
    "\n",
    "Substituindo o valor de $v^{i+1}_j $\n",
    "\n",
    "$r_j  = f_j - (2\\times 0.5(h^2f_j + v^{i}_{j+1} +   v^{i+1}_{j-1} )- v^{i}_{j+1} - v^{i+1}_{j-1}) h^2 $\n",
    "\n",
    "$r_j  = f_j - (h^2f_j) h^2 $\n",
    "\n",
    "$r_j  = f_j - f_j  = 0$\n",
    "\n",
    "\n",
    "É importante notar que essa componente do resíduo fica zero somente no fim dessa iteração. Após a atualização do $v^{i}_{j+1}$ essa propriedade pode não valer mais.\n"
   ]
  },
  {
   "cell_type": "code",
   "execution_count": 47,
   "metadata": {},
   "outputs": [
    {
     "data": {
      "text/plain": [
       "array([ 1.        ,  1.0424823 ,  1.08829654,  1.13744273,  1.18992087,\n",
       "        1.24573095,  1.30487297,  1.36734694,  1.43315285,  1.50229071,\n",
       "        1.57476052,  1.65056227,  1.72969596,  1.8121616 ,  1.89795918,\n",
       "        1.98708871,  2.07955019,  2.17534361,  2.27446897,  2.37692628,\n",
       "        2.48271554,  2.59183673,  2.70428988,  2.82007497,  2.939192  ,\n",
       "        3.06164098,  3.18742191,  3.31653478,  3.44897959,  3.58475635,\n",
       "        3.72386506,  3.86630571,  4.0120783 ,  4.16118284,  4.31361933,\n",
       "        4.46938776,  4.62848813,  4.79092045,  4.95668471,  5.12578092,\n",
       "        5.29820908,  5.47396918,  5.65306122,  5.83548521,  6.02124115,\n",
       "        6.21032903,  6.40274885,  6.59850062,  6.79758434,  7.        ])"
      ]
     },
     "execution_count": 47,
     "metadata": {},
     "output_type": "execute_result"
    }
   ],
   "source": [
    "x**2 + x + 1"
   ]
  },
  {
   "cell_type": "code",
   "execution_count": 48,
   "metadata": {},
   "outputs": [
    {
     "data": {
      "text/html": [
       "<img src=\"cap02/ex06.png\"/>"
      ],
      "text/plain": [
       "<IPython.core.display.Image object>"
      ]
     },
     "execution_count": 48,
     "metadata": {},
     "output_type": "execute_result"
    }
   ],
   "source": [
    "Image(url= \"cap02/ex06.png\")"
   ]
  },
  {
   "cell_type": "markdown",
   "metadata": {},
   "source": [
    "Basta mostrar que dada uma condição inicial para Au=f, existe uma condição inicial que se comporta de mesma maneira em Au=0. Assim, dada a condição inicial $u^0$  resíduo inicial é:\n",
    "\n",
    "$ r^0 = f - Au^0 $\n",
    "\n",
    "E o erro:\n",
    "\n",
    "$ e^0 = u^* - u^0$\n",
    "\n",
    "Partindo da equação da questao 4. Podemos encontrar a relacão do erro em cada iteração com o erro anterior.\n",
    "\n",
    "$v^1 = v^0 + Br^0 \\rightarrow u^*-v^1 = u^*-v^0 - Br^0$\n",
    "\n",
    "$e^1 = e^0 - Br^0$\n",
    "\n",
    "Olhando agora para o problema $Au=0$. Para a condição inicial :\n",
    "\n",
    "$ u^\\prime = - u^* + u^0 $ o residuo é:\n",
    "\n",
    "$ r^0 = 0 - A(- u^* + u^0) = Au^*-Au^0  = f-Au^0$\n",
    "\n",
    "Que é igual ao resíduo anterior. Assim, pela equação $e^1 = e^0 - Br^0$ os erros das duas equações se comportarão da mesma maneira.\n",
    " \n"
   ]
  },
  {
   "cell_type": "code",
   "execution_count": 49,
   "metadata": {},
   "outputs": [
    {
     "data": {
      "text/html": [
       "<img src=\"cap02/ex07.png\"/>"
      ],
      "text/plain": [
       "<IPython.core.display.Image object>"
      ]
     },
     "execution_count": 49,
     "metadata": {},
     "output_type": "execute_result"
    }
   ],
   "source": [
    "Image(url= \"cap02/ex07.png\")"
   ]
  },
  {
   "cell_type": "markdown",
   "metadata": {},
   "source": [
    "Dado que $\\rho(R)<1$ pois os métodos convergem. Então $ log_{10}\\rho(R) <0$.\n",
    "\n",
    "$\\rho(R)=0.1$ é melhor pois converge mais rapidamente para 0"
   ]
  },
  {
   "cell_type": "code",
   "execution_count": 50,
   "metadata": {},
   "outputs": [
    {
     "data": {
      "text/plain": [
       "<matplotlib.legend.Legend at 0x7f0015512650>"
      ]
     },
     "execution_count": 50,
     "metadata": {},
     "output_type": "execute_result"
    },
    {
     "data": {
      "image/png": "[encoded data removed]",
      "text/plain": [
       "<matplotlib.figure.Figure at 0x7f0015700150>"
      ]
     },
     "metadata": {},
     "output_type": "display_data"
    }
   ],
   "source": [
    "x = np.linspace(0, 10, num=100)\n",
    "\n",
    "plt.plot(x, np.power(0.1,x), label=\"0.1\")\n",
    "plt.plot(x, np.power(0.9,x), label=\"0.9\")\n",
    "\n",
    "plt.legend(bbox_to_anchor=(1.05, 1), loc=2, borderaxespad=0.)"
   ]
  },
  {
   "cell_type": "markdown",
   "metadata": {
    "slideshow": {
     "slide_type": "slide"
    }
   },
   "source": [
    "# Exercícios 08, 09 e 10"
   ]
  },
  {
   "cell_type": "code",
   "execution_count": 51,
   "metadata": {},
   "outputs": [
    {
     "data": {
      "text/html": [
       "<img src=\"cap02/ex08.png\"/>"
      ],
      "text/plain": [
       "<IPython.core.display.Image object>"
      ]
     },
     "execution_count": 51,
     "metadata": {},
     "output_type": "execute_result"
    }
   ],
   "source": [
    "Image(url= \"cap02/ex08.png\")"
   ]
  },
  {
   "cell_type": "code",
   "execution_count": 52,
   "metadata": {},
   "outputs": [
    {
     "data": {
      "text/html": [
       "<img src=\"cap02/ex09.png\"/>"
      ],
      "text/plain": [
       "<IPython.core.display.Image object>"
      ]
     },
     "execution_count": 52,
     "metadata": {},
     "output_type": "execute_result"
    }
   ],
   "source": [
    "Image(url= \"cap02/ex09.png\")"
   ]
  },
  {
   "cell_type": "markdown",
   "metadata": {},
   "source": [
    "Considerando \n",
    "\n",
    "\n",
    "$A^\\prime = \\begin{bmatrix}\n",
    " 2 & -1 &    &    & \\\\ \n",
    "-1 &  2 & -1 &    & \\\\ \n",
    "   & -1 &  2 & -1 & \\\\ \n",
    "   &    & \\ddots &  \\ddots   & \\ddots \\\\ \n",
    "   &    & 0 &  -1   & 2\n",
    "\\end{bmatrix}$\n",
    "\n",
    "$R_\\omega = I -\\frac{\\omega}{2} A^\\prime$\n",
    "\n",
    "\n",
    "Os autovetores de $A^\\prime$ são $w_{k,j} = sen(\\frac{k\\pi i}{N})$, pois:\n",
    "\n",
    "$(A^\\prime w_k)_{j} =  2 sen(\\frac{k\\pi i}{N}) - sen(\\frac{k\\pi (i-1)}{N}) - sen(\\frac{k\\pi (i+1)}{N})$\n",
    "\n",
    "$2 sen(\\frac{k\\pi i}{N}) - sen(\\frac{k\\pi (i-1)}{N}) - sen(\\frac{k\\pi (i+1)}{N}) \n",
    "=\n",
    "sen(\\frac{k\\pi i}{N}) - sen(\\frac{k\\pi (i-1)}{N}) + sen(\\frac{k\\pi i}{N}) - sen(\\frac{k\\pi (i+1)}{N}) $\n",
    "\n",
    "\n",
    "$ = 2sen(\\frac{k\\pi}{2N})cos(\\frac{k\\pi(2i-1)}{2N}) + 2sen(-\\frac{k\\pi}{2N})cos(\\frac{k\\pi(2i+1)}{2N})$\n",
    "\n",
    "$ = 2sen(\\frac{k\\pi}{2N})cos(\\frac{k\\pi(2i-1)}{2N}) + 2sen(-\\frac{k\\pi}{2N})cos(\\frac{k\\pi(2i+1)}{2N})$\n",
    "\n",
    "$ = 2sen(\\frac{k\\pi}{2N})[cos(\\frac{k\\pi(2i-1)}{2N}) - cos(\\frac{k\\pi(2i+1)}{2N})]$\n",
    "\n",
    "$ = 2sen(\\frac{k\\pi}{2N}) * [-2 sen(\\frac{k\\pi4i}{4N})sen(\\frac{-2k\\pi}{4N})]$\n",
    "\n",
    "$ = 2sen(\\frac{k\\pi}{2N}) * [2 sen(\\frac{k\\pi i)}{N})sen(\\frac{k\\pi}{2N})]$\n",
    "\n",
    "$ = 4sen^2(\\frac{k\\pi}{2N}) sen(\\frac{k\\pi i}{N})$\n",
    "\n",
    "$ (A^\\prime w_k)_{j}  = 4sen^2(\\frac{k\\pi}{2N}) w_{k,j}$\n",
    "\n",
    "Além disso, os autovalores são $\\lambda_k= 4sen^2(\\frac{k\\pi}{2N})$. Como $1\\le k < N$ então $\\frac{\\pi}{2N} \\le \\frac{k\\pi}{2N} < \\frac{\\pi}{2} $ e a função seno é injetora nesse intervalo como mostra a gráfico."
   ]
  },
  {
   "cell_type": "code",
   "execution_count": 53,
   "metadata": {},
   "outputs": [
    {
     "data": {
      "text/plain": [
       "[<matplotlib.lines.Line2D at 0x7f00153e3b90>]"
      ]
     },
     "execution_count": 53,
     "metadata": {},
     "output_type": "execute_result"
    },
    {
     "data": {
      "image/png": "[encoded data removed]",
      "text/plain": [
       "<matplotlib.figure.Figure at 0x7f0015462f90>"
      ]
     },
     "metadata": {},
     "output_type": "display_data"
    }
   ],
   "source": [
    "N = 32\n",
    "x = [k*np.pi/(2*N) for k in range(1, N)]\n",
    "\n",
    "plt.plot(range(1, N), 4*np.power(np.sin(x),2))\n",
    "\n"
   ]
  },
  {
   "cell_type": "code",
   "execution_count": 54,
   "metadata": {},
   "outputs": [
    {
     "data": {
      "image/png": "[encoded data removed]",
      "text/latex": [
       "$$\\left ( -1.1, \\quad 1.1\\right )$$"
      ],
      "text/plain": [
       "(-1.1, 1.1)"
      ]
     },
     "execution_count": 54,
     "metadata": {},
     "output_type": "execute_result"
    },
    {
     "data": {
      "image/png": "[encoded data removed]",
      "text/plain": [
       "<matplotlib.figure.Figure at 0x7f00154084d0>"
      ]
     },
     "metadata": {},
     "output_type": "display_data"
    }
   ],
   "source": [
    "ax = plt.subplot(111)\n",
    "circle = plt.Circle((0, 0), 1, color='b', fill=False, lw=2)\n",
    "ax.add_artist(circle)\n",
    "\n",
    "ax.set_title(\"Angulos dos autovalores\")\n",
    "ax.scatter(np.cos(x), np.sin(x))\n",
    "ax.set_aspect('equal')\n",
    "ax.set_xlim([-1.1,1.1])\n",
    "ax.set_ylim([-1.1,1.1])"
   ]
  },
  {
   "cell_type": "code",
   "execution_count": 55,
   "metadata": {},
   "outputs": [
    {
     "data": {
      "text/html": [
       "<img src=\"cap02/ex10.png\"/>"
      ],
      "text/plain": [
       "<IPython.core.display.Image object>"
      ]
     },
     "execution_count": 55,
     "metadata": {},
     "output_type": "execute_result"
    }
   ],
   "source": [
    "Image(url= \"cap02/ex10.png\")"
   ]
  },
  {
   "cell_type": "markdown",
   "metadata": {},
   "source": [
    "\n",
    "Os autovetores de $R_w$ são os mesmos de $A^\\prime$, pois, seja $v$ um autovalor de $A^\\prime$ e $\\lambda$ seu autovalor correspondente\n",
    "\n",
    "$R_wv = (I -\\frac{\\omega}{2} A^\\prime)v$\n",
    "\n",
    "$R_wv = (v -\\frac{\\omega}{2} A^\\prime v) = v -\\frac{\\omega}{2} \\lambda v = (1 - \\frac{\\omega}{2}\\lambda)v $\n",
    "\n",
    "E os autovalores são associados da seguinte maneira:\n",
    "\n",
    "$\\lambda(R_w) = (1 - \\frac{\\omega}{2}\\lambda(A^\\prime))$"
   ]
  },
  {
   "cell_type": "code",
   "execution_count": 56,
   "metadata": {},
   "outputs": [
    {
     "data": {
      "text/html": [
       "<img src=\"cap02/ex11.png\"/>"
      ],
      "text/plain": [
       "<IPython.core.display.Image object>"
      ]
     },
     "execution_count": 56,
     "metadata": {},
     "output_type": "execute_result"
    }
   ],
   "source": [
    "Image(url= \"cap02/ex11.png\")"
   ]
  },
  {
   "cell_type": "markdown",
   "metadata": {},
   "source": [
    "O período é o menor $\\Delta j$ tal que:\n",
    "\n",
    "$w_{k,j+ \\Delta j} = w_{k,j}$\n",
    "\n",
    "$w_{k,j+ \\Delta j} = sen(\\frac{(j+\\Delta j)k\\pi}{n}) = sen(\\frac{jk\\pi}{n} + \\frac{\\Delta jk\\pi}{n})$\n",
    "\n",
    "Então é necessário que:\n",
    "\n",
    "$ \\frac{\\Delta jk\\pi}{n} =  2\\pi$\n",
    "\n",
    "$ \\Delta j =  \\frac{2n}{k}$\n",
    "\n",
    "Como cada $\\Delta j$ tem tamanho $h = 1/n$\n",
    "\n",
    "$ l = \\Delta j h =  \\frac{2n}{k} \\times  \\frac{1}{n} = \\frac{2}{k}$\n",
    "\n",
    "\n",
    "Para $ l = 8h $\n",
    "\n",
    "$  \\frac{2}{k} = 8h \\rightarrow k = \\frac{1}{4h}$\n",
    "\n",
    "\n",
    "Para $ l = \\frac{1}{4} $\n",
    "\n",
    "$  \\frac{2}{k} = \\frac{1}{4} \\rightarrow k = 8$\n",
    "\n"
   ]
  },
  {
   "cell_type": "code",
   "execution_count": 57,
   "metadata": {},
   "outputs": [
    {
     "data": {
      "text/html": [
       "<img src=\"cap02/ex12.png\"/>"
      ],
      "text/plain": [
       "<IPython.core.display.Image object>"
      ]
     },
     "execution_count": 57,
     "metadata": {},
     "output_type": "execute_result"
    }
   ],
   "source": [
    "Image(url= \"cap02/ex12.png\")"
   ]
  },
  {
   "cell_type": "markdown",
   "metadata": {
    "collapsed": true
   },
   "source": [
    "Os vetores da base utilizado para representar o espaço $\\Re^{n-1}$ foram os modos de fourier:\n",
    "\n",
    "$w_{k,j} = sen(\\frac{jk\\pi}{n}) $ com $ 1\\le k < N$\n",
    "\n",
    "\n",
    "Assim, $sen(\\frac{j,k\\pi}{n})$ com $ N\\le k < 2N$ deve ser representado como soma dos vetores dessa base.\n",
    "\n",
    "Podemos escrever $k = 2N - k^\\prime$ com $ 1\\le k^\\prime < N$\n",
    "\n",
    "\n",
    "\n",
    "$w_{k,j} = sen(\\frac{jk\\pi}{n}) = sen(\\frac{j(2N-k^\\prime)\\pi}{N})$ \n",
    "\n",
    "\n",
    "$w_{k,j} = sen(\\frac{jk\\pi}{n}) = sen(\\frac{j(2N)\\pi}{N} - \\frac{jk^\\prime\\pi}{N} )$ \n",
    "\n",
    "\n",
    "$w_{k,j} = sen(\\frac{jk\\pi}{n}) = sen(j2\\pi - \\frac{jk^\\prime\\pi}{N} )$ \n",
    "\n",
    "Como j é inteiro, $j2\\pi$ é multiplo de $2\\pi$\n",
    "\n",
    "\n",
    "$w_{k,j} = sen(- \\frac{jk^\\prime\\pi}{N} ) = - sen(\\frac{jk^\\prime\\pi}{N} ) $ \n",
    "\n",
    "$w_{k,j} = - w_{k^\\prime,j} $ \n"
   ]
  },
  {
   "cell_type": "markdown",
   "metadata": {},
   "source": [
    "\n",
    "Para $k = \\frac{3n}{2}$:\n",
    "\n",
    "$k^\\prime = 2n - \\frac{3n}{2} = \\frac{n}{2}$"
   ]
  },
  {
   "cell_type": "code",
   "execution_count": 58,
   "metadata": {
    "scrolled": true
   },
   "outputs": [
    {
     "data": {
      "text/plain": [
       "[<matplotlib.lines.Line2D at 0x7f0016936ad0>]"
      ]
     },
     "execution_count": 58,
     "metadata": {},
     "output_type": "execute_result"
    },
    {
     "data": {
      "image/png": "[encoded data removed]",
      "text/plain": [
       "<matplotlib.figure.Figure at 0x7f00153f0850>"
      ]
     },
     "metadata": {},
     "output_type": "display_data"
    }
   ],
   "source": [
    "N=8\n",
    "x = np.linspace(0.0, 1.0, num=N+1)\n",
    "\n",
    "plt.scatter(x,np.zeros(N+1))\n",
    "plt.scatter(x, np.sin(x*(N/2)*np.pi), c=\"blue\")\n",
    "\n",
    "\n",
    "x = np.linspace(0.0, 1.0, num=20*N)\n",
    "y = np.sin(x*(N/2)*np.pi)\n",
    "plt.plot(x,y)\n",
    "\n",
    "\n",
    "x = np.linspace(0.0, 1.0, num=20*N)\n",
    "y = np.sin(-x*(3*N/2)*np.pi)\n",
    "plt.plot(x,y)\n"
   ]
  },
  {
   "cell_type": "markdown",
   "metadata": {},
   "source": [
    "Para $ l = \\frac{4h}{3} $ podemos calcular o valor de k com a equação da questão anterior.\n",
    "\n",
    "$ \\frac{2}{k} = \\frac{4h}{3} \\rightarrow k = \\frac{3}{2h} \\rightarrow k = \\frac{3N}{2}$\n",
    "\n",
    "Que cai no caso anterior.\n",
    "\n",
    "Para k = N + 2 por exemplo."
   ]
  },
  {
   "cell_type": "code",
   "execution_count": 59,
   "metadata": {},
   "outputs": [
    {
     "data": {
      "text/plain": [
       "[<matplotlib.lines.Line2D at 0x7f00152729d0>]"
      ]
     },
     "execution_count": 59,
     "metadata": {},
     "output_type": "execute_result"
    },
    {
     "data": {
      "image/png": "[encoded data removed]",
      "text/plain": [
       "<matplotlib.figure.Figure at 0x7f00169be110>"
      ]
     },
     "metadata": {},
     "output_type": "display_data"
    }
   ],
   "source": [
    "k = N+2\n",
    "klinha = 2*N-k\n",
    "\n",
    "x = np.linspace(0.0, 1.0, num=N+1)\n",
    "\n",
    "plt.scatter(x,np.zeros(N+1))\n",
    "plt.scatter(x, np.sin(x*klinha*np.pi), c=\"blue\")\n",
    "\n",
    "\n",
    "x = np.linspace(0.0, 1.0, num=20*N)\n",
    "y = np.sin(x*klinha*np.pi)\n",
    "plt.plot(x,y)\n",
    "\n",
    "\n",
    "x = np.linspace(0.0, 1.0, num=20*N)\n",
    "y = np.sin(-x*k*np.pi)\n",
    "plt.plot(x,y)\n"
   ]
  },
  {
   "cell_type": "code",
   "execution_count": 60,
   "metadata": {},
   "outputs": [
    {
     "data": {
      "text/html": [
       "<img src=\"cap02/ex13.png\"/>"
      ],
      "text/plain": [
       "<IPython.core.display.Image object>"
      ]
     },
     "execution_count": 60,
     "metadata": {},
     "output_type": "execute_result"
    }
   ],
   "source": [
    "Image(url= \"cap02/ex13.png\")"
   ]
  },
  {
   "cell_type": "markdown",
   "metadata": {},
   "source": [
    "Os autovalores são dados pela seguinte equação:\n",
    "\n",
    "$\\lambda(R_w) = 1 - \\frac{\\omega}{2}\\lambda(A^\\prime)$\n",
    "\n",
    "Logo,\n",
    "\n",
    "$\\lambda(R_w) = 1 - \\frac{\\omega}{2} 4sen^2(\\frac{k\\pi}{2N}) = 1 - 2 \\omega sen^2(\\frac{k\\pi}{2N})$\n",
    "\n",
    "\n",
    "\n",
    "O Smoothing Factor ($SF$) é definido como:\n",
    "\n",
    "$SF = max \\{|1 - 2 \\omega sen^2(\\frac{k\\pi}{2N})| |  \\frac{N}{2} \\le k < N  \\}$\n",
    "\n",
    "Como $sen^2(\\frac{k\\pi}{2N})$ é contínua e estritamente crescente para $ \\frac{N}{2} \\le k < N $ então $1 - 2 \\omega sen^2(\\frac{k\\pi}{2N})$ é estritamente decrescente nesse intervalo e, portanto, o máximo de $1 - 2 \\omega sen^2(\\frac{k\\pi}{2N})$ deve estar na extremidades.\n",
    "\n",
    "Assim, para $k = N/2$\n",
    "\n",
    "$|1 - 2 \\omega sen^2(\\frac{k\\pi}{2N})| = |1 - 2 \\frac{2}{3} sen^2( \\frac{N}{2} \\frac{\\pi}{2N})| $\n",
    "\n",
    "$|1 - 2 \\omega sen^2(\\frac{k\\pi}{2N})| = |1 -  \\frac{4}{3} sen^2( \\frac{\\pi}{4}) |$\n",
    "\n",
    "$|1 - 2 \\omega sen^2(\\frac{k\\pi}{2N})| = |1 -  \\frac{4}{3} \\frac{1}{2} |$\n",
    "\n",
    "$|1 - 2 \\omega sen^2(\\frac{k\\pi}{2N})| = |1 -  \\frac{2}{3} | = \\frac{1}{3}$\n",
    "\n",
    "E para $k = N$\n",
    "\n",
    "$|1 - 2 \\omega sen^2(\\frac{k\\pi}{2N})| = |1 - 2 \\frac{2}{3} sen^2( N \\frac{\\pi}{2N})| $\n",
    "\n",
    "$|1 - 2 \\omega sen^2(\\frac{k\\pi}{2N})| = |1 -  \\frac{4}{3} sen^2( \\frac{\\pi}{2}) |$\n",
    "\n",
    "$|1 - 2 \\omega sen^2(\\frac{k\\pi}{2N})| = |1 -  \\frac{4}{3} 1 |$\n",
    "\n",
    "$|1 - 2 \\omega sen^2(\\frac{k\\pi}{2N})| = |1 -  \\frac{4}{3} | = |-\\frac{1}{3}| = \\frac{1}{3} $\n",
    "\n",
    "\n",
    "Logo, o $SF = \\frac{1}{3}.$\n",
    "\n",
    "\n",
    "\n"
   ]
  },
  {
   "cell_type": "code",
   "execution_count": 61,
   "metadata": {},
   "outputs": [
    {
     "data": {
      "text/html": [
       "<img src=\"cap02/ex14.png\"/>"
      ],
      "text/plain": [
       "<IPython.core.display.Image object>"
      ]
     },
     "execution_count": 61,
     "metadata": {},
     "output_type": "execute_result"
    }
   ],
   "source": [
    "Image(url= \"cap02/ex14.png\")"
   ]
  },
  {
   "cell_type": "code",
   "execution_count": 62,
   "metadata": {},
   "outputs": [
    {
     "data": {
      "text/html": [
       "<img src=\"cap02/ex15.png\"/>"
      ],
      "text/plain": [
       "<IPython.core.display.Image object>"
      ]
     },
     "execution_count": 62,
     "metadata": {},
     "output_type": "execute_result"
    }
   ],
   "source": [
    "Image(url= \"cap02/ex15.png\")"
   ]
  },
  {
   "cell_type": "code",
   "execution_count": 63,
   "metadata": {},
   "outputs": [
    {
     "data": {
      "text/html": [
       "<img src=\"cap02/ex16.png\"/>"
      ],
      "text/plain": [
       "<IPython.core.display.Image object>"
      ]
     },
     "execution_count": 63,
     "metadata": {},
     "output_type": "execute_result"
    }
   ],
   "source": [
    "Image(url= \"cap02/ex16.png\")"
   ]
  },
  {
   "cell_type": "code",
   "execution_count": 64,
   "metadata": {},
   "outputs": [
    {
     "data": {
      "text/html": [
       "<img src=\"cap02/ex17.png\"/>"
      ],
      "text/plain": [
       "<IPython.core.display.Image object>"
      ]
     },
     "execution_count": 64,
     "metadata": {},
     "output_type": "execute_result"
    }
   ],
   "source": [
    "Image(url= \"cap02/ex17.png\")"
   ]
  },
  {
   "cell_type": "code",
   "execution_count": 65,
   "metadata": {},
   "outputs": [
    {
     "data": {
      "text/html": [
       "<img src=\"cap02/ex18.png\"/>"
      ],
      "text/plain": [
       "<IPython.core.display.Image object>"
      ]
     },
     "execution_count": 65,
     "metadata": {},
     "output_type": "execute_result"
    }
   ],
   "source": [
    "Image(url= \"cap02/ex18.png\")"
   ]
  },
  {
   "cell_type": "markdown",
   "metadata": {},
   "source": [
    "\n",
    "a)\n",
    "\n",
    "1) $$ Ae = r \\rightarrow |r| = |Ae| \\le |A| |e| $$\n",
    "\n",
    "2) $$ A^{-1}f = u \\rightarrow |u| = |A^{-1}f| \\le |A^{i-1}| |f| $$\n",
    "\n",
    "Multiplicando 1 e 2\n",
    "\n",
    "$$|r| |u| \\le |A| |e| |A^{i-1}| |f| \\rightarrow |r| |u| \\le cond(A) |e|  |f|$$\n",
    "\n",
    "$$ |r| |u| \\le cond(A) |e| |f|  \\rightarrow \\frac{|r|}{|f|}  \\le cond(A) \\frac{|e|}{|u|} $$\n",
    "\n",
    "b)\n",
    "\n",
    "1) $$ Au = f \\rightarrow |f| = |Au| \\le |A| \\: |u| $$\n",
    "\n",
    "2) $$ A^{-1}r = e \\rightarrow |e| = |A^{-1}r| \\le |A^{i-1}| \\: |r| $$\n",
    "\n",
    "Multiplicando 1 e 2\n",
    "\n",
    "$$|f|\\: |e| \\le |A|\\:|u| \\:|A^{i-1}|\\: |r| \\rightarrow |f| |e| \\le cond(A) |u| |r|$$\n",
    "\n",
    "$$ |f|\\: |e| \\le cond(A)\\: |u| \\: |r|  \\rightarrow \\frac{|e|}{|u|}  \\le cond(A) \\frac{|r|}{|f|} $$\n",
    "\n",
    "c)\n",
    "\n",
    "Da equação do item a,\n",
    "\n",
    "$$ \\frac{|r|}{|f|}  \\le cond(A) \\frac{|e|}{|u|} \\rightarrow \\frac{1}{ cond(A)} \\frac{|r|}{|f|}  \\le \\frac{|e|}{|u|} $$\n",
    "\n",
    "Juntando com a equacão do item b.\n",
    "\n",
    "$$\\frac{1}{ cond(A)} \\frac{|r|}{|f|} \\le \\frac{|e|}{|u|} \\le cond(A) \\frac{|r|}{|f|}$$"
   ]
  },
  {
   "cell_type": "code",
   "execution_count": 66,
   "metadata": {},
   "outputs": [
    {
     "data": {
      "text/html": [
       "<img src=\"cap02/ex19.png\"/>"
      ],
      "text/plain": [
       "<IPython.core.display.Image object>"
      ]
     },
     "execution_count": 66,
     "metadata": {},
     "output_type": "execute_result"
    }
   ],
   "source": [
    "Image(url= \"cap02/ex19.png\")"
   ]
  },
  {
   "cell_type": "code",
   "execution_count": 67,
   "metadata": {},
   "outputs": [
    {
     "data": {
      "text/html": [
       "<img src=\"cap02/ex20.png\"/>"
      ],
      "text/plain": [
       "<IPython.core.display.Image object>"
      ]
     },
     "execution_count": 67,
     "metadata": {},
     "output_type": "execute_result"
    }
   ],
   "source": [
    "Image(url= \"cap02/ex20.png\")"
   ]
  },
  {
   "cell_type": "code",
   "execution_count": 75,
   "metadata": {
    "collapsed": true
   },
   "outputs": [],
   "source": [
    "def operador(N):\n",
    "    A = np.zeros((N, N))\n",
    "    for i in range(N):\n",
    "        A[i][i] = 2.0\n",
    "        if i > 0: \n",
    "            A[i][i-1] = -1.0\n",
    "        if i < N-1:\n",
    "            A[i][i+1] = -1.0\n",
    "    return A\n",
    "        \n",
    "def Jacobi(u, u_ant, f):\n",
    "    for i in range(1, len(u) - 1):\n",
    "        u[i] = 0.5*(h*h*f(i*h) + u_ant[i-1] + u_ant[i+1])    \n",
    "                             \n",
    "\n",
    "def Weighted_Jacobi(u, u_ant, w, tol=0.0, min_iter=0, max_iter=float('inf')):\n",
    "    I = np.identity(unknows)\n",
    "    A = operador(unknows)\n",
    "    D = np.diag(np.diag(A))\n",
    "    L = -np.tril(A, k=-1)\n",
    "    U = -np.triu(A, k=1)   \n",
    "    Rj = w*np.dot(LA.inv(D), L + U)\n",
    "    Rw = (1-w)*I + w*Rj\n",
    "    erros = []\n",
    "    erros.append(LA.norm(u_ant, ord=np.inf))\n",
    "    \n",
    "    iteracoes = 0\n",
    "    while iteracoes < min_iter or (erros[-1]>tol and iteracoes < max_iter):\n",
    "        Weighted_Jacobi_Step(u[1:-1], u_ant[1:-1], Rw, w)\n",
    "        Weighted_Jacobi_Step(u_ant[1:-1], u[1:-1], Rw,w)\n",
    "\n",
    "        iteracoes += 2\n",
    "        erros.append(LA.norm(u_ant, ord=np.inf))\n",
    "    \n",
    "    \n",
    "    return erros, iteracoes\n",
    "\n",
    "\n",
    "def Weighted_Jacobi_Step(u, u_ant, Rw, w, f=lambda x: 0.0):\n",
    "    #u[:] = np.dot(Rw, u_ant)\n",
    "    for i in xrange(len(u)):\n",
    "        u[i] = (1-w)*u_ant[i]\n",
    "        if i > 0:\n",
    "            u[i] += (w/2.0)*u_ant[i-1]\n",
    "        if i < len(u)-1:\n",
    "            u[i] += (w/2.0)*u_ant[i+1]\n",
    "            \n",
    "def GS(u, r, tol=0.0, min_iter=0, max_iter=float('inf')):\n",
    "    erros = []\n",
    "    erros.append(LA.norm(u, ord=np.inf)) \n",
    "    iteracoes = 0\n",
    "    while iteracoes < min_iter or (erros[-1]>tol and iteracoes < max_iter):\n",
    "        GS_Step(u[1:-1], r[1:-1])\n",
    "        erros.append(LA.norm(u, ord=np.inf))\n",
    "        iteracoes+=1\n",
    "        \n",
    "    return erros, iteracoes\n",
    "\n",
    "def GS_RedBlack(u, r, tol=0.0, min_iter=0, max_iter=float('inf')):\n",
    "    erros = []\n",
    "    erros.append(LA.norm(u, ord=np.inf)) \n",
    "    iteracoes = 0\n",
    "    while iteracoes < min_iter or (erros[-1]>tol and iteracoes < max_iter):\n",
    "        GS_RedBlack_Step(u[1:-1], r[1:-1])\n",
    "        erros.append(LA.norm(u, ord=np.inf))\n",
    "        iteracoes+=1\n",
    "        \n",
    "    return erros, iteracoes\n",
    "\n",
    "def GS_RedBlack_Step(u,r):\n",
    "    h = 1.0/(len(u)-1)\n",
    "    \n",
    "    for i in range(0, len(u), 2):\n",
    "        u[i] = 0.5*h*h*r[i]\n",
    "        if i > 0:\n",
    "            u[i] += 0.5*u[i-1] \n",
    "        if i<len(u)-1:\n",
    "            u[i] += 0.5*u[i+1]\n",
    "            \n",
    "    for i in range(1, len(u), 2):\n",
    "        u[i] = 0.5*h*h*r[i]\n",
    "        if i > 0:\n",
    "            u[i] += 0.5*u[i-1] \n",
    "        if i<len(u)-1:\n",
    "            u[i] += 0.5*u[i+1]            \n",
    "            \n",
    "            \n",
    "def GS_Step(u, r):\n",
    "    h = 1.0/(len(u)-1)\n",
    "    for i in range(len(u)):\n",
    "        u[i] = 0.5*h*h*r[i]\n",
    "        if i > 0:\n",
    "            u[i] += 0.5*u[i-1] \n",
    "        if i<len(u)-1:\n",
    "            u[i] += 0.5*u[i+1] "
   ]
  },
  {
   "cell_type": "code",
   "execution_count": 72,
   "metadata": {
    "collapsed": true
   },
   "outputs": [],
   "source": [
    "N = 64\n",
    "unknows = N-1\n",
    "x = np.linspace(0, 1, endpoint=True, num=N+1)"
   ]
  },
  {
   "cell_type": "code",
   "execution_count": null,
   "metadata": {
    "collapsed": true
   },
   "outputs": [],
   "source": []
  },
  {
   "cell_type": "code",
   "execution_count": 73,
   "metadata": {},
   "outputs": [
    {
     "data": {
      "text/plain": [
       "<matplotlib.text.Text at 0x7f00150e89d0>"
      ]
     },
     "execution_count": 73,
     "metadata": {},
     "output_type": "execute_result"
    },
    {
     "data": {
      "image/png": "[encoded data removed]",
      "text/plain": [
       "<matplotlib.figure.Figure at 0x7f00151e34d0>"
      ]
     },
     "metadata": {},
     "output_type": "display_data"
    }
   ],
   "source": [
    "ks = range(1,N)\n",
    "iters = []\n",
    "for k in ks:\n",
    "    u = np.sin(k*np.pi*x)\n",
    "    r = np.zeros(len(x))\n",
    "    erros, iteracoes = GS(u,r, tol=0.01, max_iter=100)\n",
    "    iters.append(iteracoes)\n",
    "#print erros[-1]\n",
    "plt.plot(ks, iters)\n",
    "plt.title(\"Gauss-Seidel\")"
   ]
  },
  {
   "cell_type": "code",
   "execution_count": 76,
   "metadata": {},
   "outputs": [
    {
     "ename": "NameError",
     "evalue": "global name 'h' is not defined",
     "output_type": "error",
     "traceback": [
      "\u001b[0;31m---------------------------------------------------------------------------\u001b[0m",
      "\u001b[0;31mNameError\u001b[0m                                 Traceback (most recent call last)",
      "\u001b[0;32m<ipython-input-76-fbfb7b64ab11>\u001b[0m in \u001b[0;36m<module>\u001b[0;34m()\u001b[0m\n\u001b[1;32m      4\u001b[0m     \u001b[0mu\u001b[0m \u001b[0;34m=\u001b[0m \u001b[0mnp\u001b[0m\u001b[0;34m.\u001b[0m\u001b[0msin\u001b[0m\u001b[0;34m(\u001b[0m\u001b[0mk\u001b[0m\u001b[0;34m*\u001b[0m\u001b[0mnp\u001b[0m\u001b[0;34m.\u001b[0m\u001b[0mpi\u001b[0m\u001b[0;34m*\u001b[0m\u001b[0mx\u001b[0m\u001b[0;34m)\u001b[0m\u001b[0;34m\u001b[0m\u001b[0m\n\u001b[1;32m      5\u001b[0m     \u001b[0mr\u001b[0m \u001b[0;34m=\u001b[0m \u001b[0mnp\u001b[0m\u001b[0;34m.\u001b[0m\u001b[0mzeros\u001b[0m\u001b[0;34m(\u001b[0m\u001b[0mlen\u001b[0m\u001b[0;34m(\u001b[0m\u001b[0mx\u001b[0m\u001b[0;34m)\u001b[0m\u001b[0;34m)\u001b[0m\u001b[0;34m\u001b[0m\u001b[0m\n\u001b[0;32m----> 6\u001b[0;31m     \u001b[0merros\u001b[0m\u001b[0;34m,\u001b[0m \u001b[0miteracoes\u001b[0m \u001b[0;34m=\u001b[0m \u001b[0mGS_RedBlack\u001b[0m\u001b[0;34m(\u001b[0m\u001b[0mu\u001b[0m\u001b[0;34m,\u001b[0m\u001b[0mr\u001b[0m\u001b[0;34m,\u001b[0m \u001b[0mtol\u001b[0m\u001b[0;34m=\u001b[0m\u001b[0;36m0.01\u001b[0m\u001b[0;34m,\u001b[0m \u001b[0mmax_iter\u001b[0m\u001b[0;34m=\u001b[0m\u001b[0;36m100\u001b[0m\u001b[0;34m)\u001b[0m\u001b[0;34m\u001b[0m\u001b[0m\n\u001b[0m\u001b[1;32m      7\u001b[0m     \u001b[0miters\u001b[0m\u001b[0;34m.\u001b[0m\u001b[0mappend\u001b[0m\u001b[0;34m(\u001b[0m\u001b[0miteracoes\u001b[0m\u001b[0;34m)\u001b[0m\u001b[0;34m\u001b[0m\u001b[0m\n\u001b[1;32m      8\u001b[0m \u001b[0;31m#print erros[-1]\u001b[0m\u001b[0;34m\u001b[0m\u001b[0;34m\u001b[0m\u001b[0m\n",
      "\u001b[0;32m<ipython-input-75-02bd61b159a0>\u001b[0m in \u001b[0;36mGS_RedBlack\u001b[0;34m(u, r, tol, min_iter, max_iter)\u001b[0m\n\u001b[1;32m     62\u001b[0m     \u001b[0miteracoes\u001b[0m \u001b[0;34m=\u001b[0m \u001b[0;36m0\u001b[0m\u001b[0;34m\u001b[0m\u001b[0m\n\u001b[1;32m     63\u001b[0m     \u001b[0;32mwhile\u001b[0m \u001b[0miteracoes\u001b[0m \u001b[0;34m<\u001b[0m \u001b[0mmin_iter\u001b[0m \u001b[0;32mor\u001b[0m \u001b[0;34m(\u001b[0m\u001b[0merros\u001b[0m\u001b[0;34m[\u001b[0m\u001b[0;34m-\u001b[0m\u001b[0;36m1\u001b[0m\u001b[0;34m]\u001b[0m\u001b[0;34m>\u001b[0m\u001b[0mtol\u001b[0m \u001b[0;32mand\u001b[0m \u001b[0miteracoes\u001b[0m \u001b[0;34m<\u001b[0m \u001b[0mmax_iter\u001b[0m\u001b[0;34m)\u001b[0m\u001b[0;34m:\u001b[0m\u001b[0;34m\u001b[0m\u001b[0m\n\u001b[0;32m---> 64\u001b[0;31m         \u001b[0mGS_RedBlack_Step\u001b[0m\u001b[0;34m(\u001b[0m\u001b[0mu\u001b[0m\u001b[0;34m[\u001b[0m\u001b[0;36m1\u001b[0m\u001b[0;34m:\u001b[0m\u001b[0;34m-\u001b[0m\u001b[0;36m1\u001b[0m\u001b[0;34m]\u001b[0m\u001b[0;34m,\u001b[0m \u001b[0mr\u001b[0m\u001b[0;34m[\u001b[0m\u001b[0;36m1\u001b[0m\u001b[0;34m:\u001b[0m\u001b[0;34m-\u001b[0m\u001b[0;36m1\u001b[0m\u001b[0;34m]\u001b[0m\u001b[0;34m)\u001b[0m\u001b[0;34m\u001b[0m\u001b[0m\n\u001b[0m\u001b[1;32m     65\u001b[0m         \u001b[0merros\u001b[0m\u001b[0;34m.\u001b[0m\u001b[0mappend\u001b[0m\u001b[0;34m(\u001b[0m\u001b[0mLA\u001b[0m\u001b[0;34m.\u001b[0m\u001b[0mnorm\u001b[0m\u001b[0;34m(\u001b[0m\u001b[0mu\u001b[0m\u001b[0;34m,\u001b[0m \u001b[0mord\u001b[0m\u001b[0;34m=\u001b[0m\u001b[0mnp\u001b[0m\u001b[0;34m.\u001b[0m\u001b[0minf\u001b[0m\u001b[0;34m)\u001b[0m\u001b[0;34m)\u001b[0m\u001b[0;34m\u001b[0m\u001b[0m\n\u001b[1;32m     66\u001b[0m         \u001b[0miteracoes\u001b[0m\u001b[0;34m+=\u001b[0m\u001b[0;36m1\u001b[0m\u001b[0;34m\u001b[0m\u001b[0m\n",
      "\u001b[0;32m<ipython-input-75-02bd61b159a0>\u001b[0m in \u001b[0;36mGS_RedBlack_Step\u001b[0;34m(u, r)\u001b[0m\n\u001b[1;32m     70\u001b[0m \u001b[0;32mdef\u001b[0m \u001b[0mGS_RedBlack_Step\u001b[0m\u001b[0;34m(\u001b[0m\u001b[0mu\u001b[0m\u001b[0;34m,\u001b[0m\u001b[0mr\u001b[0m\u001b[0;34m)\u001b[0m\u001b[0;34m:\u001b[0m\u001b[0;34m\u001b[0m\u001b[0m\n\u001b[1;32m     71\u001b[0m     \u001b[0;32mfor\u001b[0m \u001b[0mi\u001b[0m \u001b[0;32min\u001b[0m \u001b[0mrange\u001b[0m\u001b[0;34m(\u001b[0m\u001b[0;36m0\u001b[0m\u001b[0;34m,\u001b[0m \u001b[0mlen\u001b[0m\u001b[0;34m(\u001b[0m\u001b[0mu\u001b[0m\u001b[0;34m)\u001b[0m\u001b[0;34m,\u001b[0m \u001b[0;36m2\u001b[0m\u001b[0;34m)\u001b[0m\u001b[0;34m:\u001b[0m\u001b[0;34m\u001b[0m\u001b[0m\n\u001b[0;32m---> 72\u001b[0;31m         \u001b[0mu\u001b[0m\u001b[0;34m[\u001b[0m\u001b[0mi\u001b[0m\u001b[0;34m]\u001b[0m \u001b[0;34m=\u001b[0m \u001b[0;36m0.5\u001b[0m\u001b[0;34m*\u001b[0m\u001b[0mh\u001b[0m\u001b[0;34m*\u001b[0m\u001b[0mh\u001b[0m\u001b[0;34m*\u001b[0m\u001b[0mr\u001b[0m\u001b[0;34m[\u001b[0m\u001b[0mi\u001b[0m\u001b[0;34m]\u001b[0m\u001b[0;34m\u001b[0m\u001b[0m\n\u001b[0m\u001b[1;32m     73\u001b[0m         \u001b[0;32mif\u001b[0m \u001b[0mi\u001b[0m \u001b[0;34m>\u001b[0m \u001b[0;36m0\u001b[0m\u001b[0;34m:\u001b[0m\u001b[0;34m\u001b[0m\u001b[0m\n\u001b[1;32m     74\u001b[0m             \u001b[0mu\u001b[0m\u001b[0;34m[\u001b[0m\u001b[0mi\u001b[0m\u001b[0;34m]\u001b[0m \u001b[0;34m+=\u001b[0m \u001b[0;36m0.5\u001b[0m\u001b[0;34m*\u001b[0m\u001b[0mu\u001b[0m\u001b[0;34m[\u001b[0m\u001b[0mi\u001b[0m\u001b[0;34m-\u001b[0m\u001b[0;36m1\u001b[0m\u001b[0;34m]\u001b[0m\u001b[0;34m\u001b[0m\u001b[0m\n",
      "\u001b[0;31mNameError\u001b[0m: global name 'h' is not defined"
     ]
    }
   ],
   "source": [
    "ks = range(1,N)\n",
    "iters = []\n",
    "for k in ks:\n",
    "    u = np.sin(k*np.pi*x)\n",
    "    r = np.zeros(len(x))\n",
    "    erros, iteracoes = GS_RedBlack(u,r, tol=0.01, max_iter=100)\n",
    "    iters.append(iteracoes)\n",
    "#print erros[-1]\n",
    "plt.plot(ks, iters)\n",
    "plt.title(\"Gauss-Seidel- RedBlack\")"
   ]
  }
 ],
 "metadata": {
  "celltoolbar": "Raw Cell Format",
  "kernelspec": {
   "display_name": "Python 2",
   "language": "python",
   "name": "python2"
  },
  "language_info": {
   "codemirror_mode": {
    "name": "ipython",
    "version": 2
   },
   "file_extension": ".py",
   "mimetype": "text/x-python",
   "name": "python",
   "nbconvert_exporter": "python",
   "pygments_lexer": "ipython2",
   "version": "2.7.12"
  }
 },
 "nbformat": 4,
 "nbformat_minor": 2
}
