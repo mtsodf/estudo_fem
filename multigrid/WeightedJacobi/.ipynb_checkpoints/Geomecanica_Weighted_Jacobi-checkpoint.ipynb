{
 "cells": [
  {
   "cell_type": "code",
   "execution_count": 32,
   "metadata": {
    "collapsed": true
   },
   "outputs": [],
   "source": [
    "%matplotlib inline\n",
    "\n",
    "import pandas as pd\n",
    "import numpy as np\n",
    "import re\n",
    "import matplotlib.pyplot as plt\n",
    "import glob\n",
    "from mpl_toolkits.axes_grid1 import ImageGrid\n",
    "plt.style.use('ggplot')\n",
    "\n",
    "NUMERO_REAL = r\"[-+]?\\d*[\\.]?\\d*[eE]?[-+]?\\d*\""
   ]
  },
  {
   "cell_type": "code",
   "execution_count": 2,
   "metadata": {
    "collapsed": true
   },
   "outputs": [],
   "source": [
    "def set_ax_style(ax):\n",
    "    ax.legend(bbox_to_anchor=(1.05, 1), loc=2, borderaxespad=0., fontsize=20)\n",
    "\n",
    "    for line in ax.get_xticklines() + ax.get_yticklines():\n",
    "        line.set_linewidth(1.0)\n",
    "\n",
    "\n",
    "    ticklabels = ax.get_xticklabels() + ax.get_yticklabels()   \n",
    "    for label in ticklabels:\n",
    "        label.set_fontsize(15)\n"
   ]
  },
  {
   "cell_type": "code",
   "execution_count": 3,
   "metadata": {
    "collapsed": true
   },
   "outputs": [],
   "source": [
    "columns = [\"caso\", \"w\", \"kx\", \"ky\", \"kz\", \"i0\", \"i1\", \"i2\", \"i10\"]"
   ]
  },
  {
   "cell_type": "code",
   "execution_count": 4,
   "metadata": {
    "collapsed": true
   },
   "outputs": [],
   "source": [
    "def read_results(filename):\n",
    "    df = pd.DataFrame(columns=columns)\n",
    "    \n",
    "    f = open(filename)\n",
    "    state = 0\n",
    "    for line in f:\n",
    "        \n",
    "        if state == 0:\n",
    "            w = float(line.split()[2])\n",
    "            print \"w = \", w\n",
    "            state += 1\n",
    "        \n",
    "        elif state == 1:\n",
    "            l = line.split()\n",
    "\n",
    "            kx, ky, kz = int(l[2]), int(l[5]), int(l[8])\n",
    "            \n",
    "            line = f.next()\n",
    "            i0 = float(line.split()[1])\n",
    "            \n",
    "            line = f.next()\n",
    "            i1 = float(line.split()[1])\n",
    "            \n",
    "            line = f.next()\n",
    "            i2 = float(line.split()[1])\n",
    "\n",
    "            \n",
    "            line = f.next()\n",
    "            i10 = float(line.split()[1])\n",
    "\n",
    "            d = {}\n",
    "            d[\"caso\"] = filename\n",
    "            d[\"w\"]  = w\n",
    "            d[\"kx\"] = kx\n",
    "            d[\"ky\"] = ky\n",
    "            d[\"kz\"] = kz\n",
    "            d[\"i0\"] = i0\n",
    "            d[\"i1\"] = i1\n",
    "            d[\"i2\"] = i2\n",
    "            d[\"i10\"] = i10\n",
    "            \n",
    "            df = df.append(d, ignore_index=True)\n",
    "            \n",
    "    f.close()\n",
    "    return df "
   ]
  },
  {
   "cell_type": "code",
   "execution_count": 15,
   "metadata": {},
   "outputs": [
    {
     "name": "stdout",
     "output_type": "stream",
     "text": [
      "w =  1.0\n"
     ]
    }
   ],
   "source": [
    "data = read_results(\"caso10.gdt_w_1_1\")\n",
    "data[\"r2\"] = data.i2/data.i0"
   ]
  },
  {
   "cell_type": "code",
   "execution_count": 6,
   "metadata": {
    "collapsed": true
   },
   "outputs": [],
   "source": [
    "kzs = data[\"kz\"].unique()"
   ]
  },
  {
   "cell_type": "code",
   "execution_count": 43,
   "metadata": {},
   "outputs": [
    {
     "data": {
      "text/plain": [
       "<matplotlib.figure.Figure at 0x7fca0732ba50>"
      ]
     },
     "metadata": {},
     "output_type": "display_data"
    },
    {
     "data": {
      "text/plain": [
       "<matplotlib.figure.Figure at 0x7fca0730fe90>"
      ]
     },
     "metadata": {},
     "output_type": "display_data"
    },
    {
     "data": {
      "text/plain": [
       "<matplotlib.figure.Figure at 0x7fca099f3cd0>"
      ]
     },
     "metadata": {},
     "output_type": "display_data"
    },
    {
     "data": {
      "text/plain": [
       "<matplotlib.figure.Figure at 0x7fca07031c50>"
      ]
     },
     "metadata": {},
     "output_type": "display_data"
    },
    {
     "data": {
      "text/plain": [
       "<matplotlib.figure.Figure at 0x7fca06f42b90>"
      ]
     },
     "metadata": {},
     "output_type": "display_data"
    },
    {
     "data": {
      "text/plain": [
       "<matplotlib.figure.Figure at 0x7fca06e53d10>"
      ]
     },
     "metadata": {},
     "output_type": "display_data"
    },
    {
     "data": {
      "text/plain": [
       "<matplotlib.figure.Figure at 0x7fca06ce8d50>"
      ]
     },
     "metadata": {},
     "output_type": "display_data"
    }
   ],
   "source": [
    "for kz in kzs:\n",
    "    fig = plt.figure(1, (8,12))\n",
    "    grid = ImageGrid(fig, 111,  # similar to subplot(111)\n",
    "                         nrows_ncols=(1, 1),\n",
    "                         axes_pad=0.4,\n",
    "                         add_all=True,\n",
    "                         label_mode=\"L\",\n",
    "                         cbar_location=\"right\",\n",
    "                         cbar_mode=\"each\"\n",
    "                         )\n",
    "    #fig, ax = plt.subplots(1,1, figsize=(15,8), subplot_kw={'xticks': [], 'yticks': []})\n",
    "    ax = grid[0]\n",
    "    ax.set_title(\"kz=%d\" % kz)\n",
    "    d = data[data.kz == kz]\n",
    "\n",
    "    kxs = d.kx.unique()\n",
    "    kys = d.ky.unique()\n",
    "    values = np.zeros((len(kxs), len(kys)))\n",
    "    \n",
    "    for i,kx in enumerate(kxs):\n",
    "        for j, ky in enumerate(kys):\n",
    "            val = float(d[(d.kx == kx) & (d.ky == ky)].r2)\n",
    "            values[i,j] = val\n",
    "\n",
    "    my_cmap = plt.cm.get_cmap('seismic')\n",
    "    \n",
    "    im = ax.imshow(values, interpolation='none', cmap='viridis')\n",
    "    grid.cbar_axes[0].colorbar(im)\n",
    "    \n",
    "    plt.draw()\n",
    "    plt.show()\n",
    "    plt.savefig(\"a\")"
   ]
  }
 ],
 "metadata": {
  "kernelspec": {
   "display_name": "Python 2",
   "language": "python",
   "name": "python2"
  },
  "language_info": {
   "codemirror_mode": {
    "name": "ipython",
    "version": 2
   },
   "file_extension": ".py",
   "mimetype": "text/x-python",
   "name": "python",
   "nbconvert_exporter": "python",
   "pygments_lexer": "ipython2",
   "version": "2.7.12"
  }
 },
 "nbformat": 4,
 "nbformat_minor": 2
}
